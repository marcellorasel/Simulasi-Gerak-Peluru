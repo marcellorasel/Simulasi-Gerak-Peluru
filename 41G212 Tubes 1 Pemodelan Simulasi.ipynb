{
  "nbformat": 4,
  "nbformat_minor": 0,
  "metadata": {
    "colab": {
      "name": "Untitled1.ipynb",
      "provenance": []
    },
    "kernelspec": {
      "name": "python3",
      "display_name": "Python 3"
    },
    "language_info": {
      "name": "python"
    }
  },
  "cells": [
    {
      "cell_type": "markdown",
      "metadata": {
        "id": "WIX3FiztRQNi"
      },
      "source": [
        "Import Library"
      ]
    },
    {
      "cell_type": "code",
      "metadata": {
        "id": "KMK-qnzjROm2"
      },
      "source": [
        "import math\n",
        "import matplotlib.pyplot as plt\n",
        "import numpy as np"
      ],
      "execution_count": null,
      "outputs": []
    },
    {
      "cell_type": "markdown",
      "metadata": {
        "id": "MXbJMraORR6g"
      },
      "source": [
        "Inisialisasi Objek"
      ]
    },
    {
      "cell_type": "code",
      "metadata": {
        "id": "awua7rpKRmco"
      },
      "source": [
        "g = 9.806         #Nilai percepatan gravitasi\n",
        "delta_t = 0.01    #Nilai ΔT\n",
        "m = 0.15          #Berat massa\n",
        "vo = 50           #Kecepatan awal\n",
        "teta = 35         #Sudut tembak\n",
        "t = 0             #Waktu"
      ],
      "execution_count": null,
      "outputs": []
    },
    {
      "cell_type": "markdown",
      "metadata": {
        "id": "h_y7q_VzSWVd"
      },
      "source": [
        "Rumus Tanpa Hambatan Udara"
      ]
    },
    {
      "cell_type": "code",
      "metadata": {
        "id": "C5j59fqySo6c"
      },
      "source": [
        ""
      ],
      "execution_count": null,
      "outputs": []
    }
  ]
}